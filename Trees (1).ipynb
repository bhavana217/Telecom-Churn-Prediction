{
  "nbformat": 4,
  "nbformat_minor": 0,
  "metadata": {
    "colab": {
      "name": "Trees.ipynb",
      "provenance": [],
      "collapsed_sections": []
    },
    "kernelspec": {
      "name": "python3",
      "display_name": "Python 3"
    }
  },
  "cells": [
    {
      "cell_type": "code",
      "metadata": {
        "id": "YUqEdtmHM1sq",
        "colab_type": "code",
        "colab": {}
      },
      "source": [
        "import numpy as np\n",
        "import pandas as pd\n",
        "import sklearn\n",
        "sklearn.set_config(print_changed_only=True)\n",
        "from sklearn.model_selection import train_test_split\n",
        "from sklearn.pipeline import make_pipeline\n",
        "from sklearn.preprocessing import scale,StandardScaler\n",
        "import matplotlib.pyplot as plt"
      ],
      "execution_count": null,
      "outputs": []
    },
    {
      "cell_type": "code",
      "metadata": {
        "id": "-OtEthlKOTOj",
        "colab_type": "code",
        "colab": {}
      },
      "source": [
        "df = pd.read_csv(\"/content/Telecom_churn.csv\")"
      ],
      "execution_count": 197,
      "outputs": []
    },
    {
      "cell_type": "code",
      "metadata": {
        "id": "mnldMqY9OsFs",
        "colab_type": "code",
        "colab": {
          "base_uri": "https://localhost:8080/",
          "height": 299
        },
        "outputId": "82137728-6035-4237-a9f6-84ec6657fc66"
      },
      "source": [
        "df.head()"
      ],
      "execution_count": 198,
      "outputs": [
        {
          "output_type": "execute_result",
          "data": {
            "text/html": [
              "<div>\n",
              "<style scoped>\n",
              "    .dataframe tbody tr th:only-of-type {\n",
              "        vertical-align: middle;\n",
              "    }\n",
              "\n",
              "    .dataframe tbody tr th {\n",
              "        vertical-align: top;\n",
              "    }\n",
              "\n",
              "    .dataframe thead th {\n",
              "        text-align: right;\n",
              "    }\n",
              "</style>\n",
              "<table border=\"1\" class=\"dataframe\">\n",
              "  <thead>\n",
              "    <tr style=\"text-align: right;\">\n",
              "      <th></th>\n",
              "      <th>customerID</th>\n",
              "      <th>gender</th>\n",
              "      <th>SeniorCitizen</th>\n",
              "      <th>Partner</th>\n",
              "      <th>Dependents</th>\n",
              "      <th>tenure</th>\n",
              "      <th>PhoneService</th>\n",
              "      <th>MultipleLines</th>\n",
              "      <th>InternetService</th>\n",
              "      <th>OnlineSecurity</th>\n",
              "      <th>OnlineBackup</th>\n",
              "      <th>DeviceProtection</th>\n",
              "      <th>TechSupport</th>\n",
              "      <th>StreamingTV</th>\n",
              "      <th>StreamingMovies</th>\n",
              "      <th>Contract</th>\n",
              "      <th>PaperlessBilling</th>\n",
              "      <th>PaymentMethod</th>\n",
              "      <th>MonthlyCharges</th>\n",
              "      <th>TotalCharges</th>\n",
              "      <th>Churn</th>\n",
              "    </tr>\n",
              "  </thead>\n",
              "  <tbody>\n",
              "    <tr>\n",
              "      <th>0</th>\n",
              "      <td>7590-VHVEG</td>\n",
              "      <td>Female</td>\n",
              "      <td>0</td>\n",
              "      <td>Yes</td>\n",
              "      <td>No</td>\n",
              "      <td>1</td>\n",
              "      <td>No</td>\n",
              "      <td>No phone service</td>\n",
              "      <td>DSL</td>\n",
              "      <td>No</td>\n",
              "      <td>Yes</td>\n",
              "      <td>No</td>\n",
              "      <td>No</td>\n",
              "      <td>No</td>\n",
              "      <td>No</td>\n",
              "      <td>Month-to-month</td>\n",
              "      <td>Yes</td>\n",
              "      <td>Electronic check</td>\n",
              "      <td>29.85</td>\n",
              "      <td>29.85</td>\n",
              "      <td>No</td>\n",
              "    </tr>\n",
              "    <tr>\n",
              "      <th>1</th>\n",
              "      <td>5575-GNVDE</td>\n",
              "      <td>Male</td>\n",
              "      <td>0</td>\n",
              "      <td>No</td>\n",
              "      <td>No</td>\n",
              "      <td>34</td>\n",
              "      <td>Yes</td>\n",
              "      <td>No</td>\n",
              "      <td>DSL</td>\n",
              "      <td>Yes</td>\n",
              "      <td>No</td>\n",
              "      <td>Yes</td>\n",
              "      <td>No</td>\n",
              "      <td>No</td>\n",
              "      <td>No</td>\n",
              "      <td>One year</td>\n",
              "      <td>No</td>\n",
              "      <td>Mailed check</td>\n",
              "      <td>56.95</td>\n",
              "      <td>1889.5</td>\n",
              "      <td>No</td>\n",
              "    </tr>\n",
              "    <tr>\n",
              "      <th>2</th>\n",
              "      <td>3668-QPYBK</td>\n",
              "      <td>Male</td>\n",
              "      <td>0</td>\n",
              "      <td>No</td>\n",
              "      <td>No</td>\n",
              "      <td>2</td>\n",
              "      <td>Yes</td>\n",
              "      <td>No</td>\n",
              "      <td>DSL</td>\n",
              "      <td>Yes</td>\n",
              "      <td>Yes</td>\n",
              "      <td>No</td>\n",
              "      <td>No</td>\n",
              "      <td>No</td>\n",
              "      <td>No</td>\n",
              "      <td>Month-to-month</td>\n",
              "      <td>Yes</td>\n",
              "      <td>Mailed check</td>\n",
              "      <td>53.85</td>\n",
              "      <td>108.15</td>\n",
              "      <td>Yes</td>\n",
              "    </tr>\n",
              "    <tr>\n",
              "      <th>3</th>\n",
              "      <td>7795-CFOCW</td>\n",
              "      <td>Male</td>\n",
              "      <td>0</td>\n",
              "      <td>No</td>\n",
              "      <td>No</td>\n",
              "      <td>45</td>\n",
              "      <td>No</td>\n",
              "      <td>No phone service</td>\n",
              "      <td>DSL</td>\n",
              "      <td>Yes</td>\n",
              "      <td>No</td>\n",
              "      <td>Yes</td>\n",
              "      <td>Yes</td>\n",
              "      <td>No</td>\n",
              "      <td>No</td>\n",
              "      <td>One year</td>\n",
              "      <td>No</td>\n",
              "      <td>Bank transfer (automatic)</td>\n",
              "      <td>42.30</td>\n",
              "      <td>1840.75</td>\n",
              "      <td>No</td>\n",
              "    </tr>\n",
              "    <tr>\n",
              "      <th>4</th>\n",
              "      <td>9237-HQITU</td>\n",
              "      <td>Female</td>\n",
              "      <td>0</td>\n",
              "      <td>No</td>\n",
              "      <td>No</td>\n",
              "      <td>2</td>\n",
              "      <td>Yes</td>\n",
              "      <td>No</td>\n",
              "      <td>Fiber optic</td>\n",
              "      <td>No</td>\n",
              "      <td>No</td>\n",
              "      <td>No</td>\n",
              "      <td>No</td>\n",
              "      <td>No</td>\n",
              "      <td>No</td>\n",
              "      <td>Month-to-month</td>\n",
              "      <td>Yes</td>\n",
              "      <td>Electronic check</td>\n",
              "      <td>70.70</td>\n",
              "      <td>151.65</td>\n",
              "      <td>Yes</td>\n",
              "    </tr>\n",
              "  </tbody>\n",
              "</table>\n",
              "</div>"
            ],
            "text/plain": [
              "   customerID  gender  SeniorCitizen  ... MonthlyCharges TotalCharges  Churn\n",
              "0  7590-VHVEG  Female              0  ...          29.85        29.85     No\n",
              "1  5575-GNVDE    Male              0  ...          56.95       1889.5     No\n",
              "2  3668-QPYBK    Male              0  ...          53.85       108.15    Yes\n",
              "3  7795-CFOCW    Male              0  ...          42.30      1840.75     No\n",
              "4  9237-HQITU  Female              0  ...          70.70       151.65    Yes\n",
              "\n",
              "[5 rows x 21 columns]"
            ]
          },
          "metadata": {
            "tags": []
          },
          "execution_count": 198
        }
      ]
    },
    {
      "cell_type": "code",
      "metadata": {
        "id": "jpTg-DexO1AD",
        "colab_type": "code",
        "colab": {
          "base_uri": "https://localhost:8080/",
          "height": 118
        },
        "outputId": "f49ca101-ed66-46f1-eca2-d0fea799358a"
      },
      "source": [
        "df.columns"
      ],
      "execution_count": 199,
      "outputs": [
        {
          "output_type": "execute_result",
          "data": {
            "text/plain": [
              "Index(['customerID', 'gender', 'SeniorCitizen', 'Partner', 'Dependents',\n",
              "       'tenure', 'PhoneService', 'MultipleLines', 'InternetService',\n",
              "       'OnlineSecurity', 'OnlineBackup', 'DeviceProtection', 'TechSupport',\n",
              "       'StreamingTV', 'StreamingMovies', 'Contract', 'PaperlessBilling',\n",
              "       'PaymentMethod', 'MonthlyCharges', 'TotalCharges', 'Churn'],\n",
              "      dtype='object')"
            ]
          },
          "metadata": {
            "tags": []
          },
          "execution_count": 199
        }
      ]
    },
    {
      "cell_type": "code",
      "metadata": {
        "id": "d-1e_MgZO5nR",
        "colab_type": "code",
        "colab": {}
      },
      "source": [
        "df[\"Partner\"].replace([\"Yes\",\"No\"],[1,0],inplace=True)\n",
        "df[\"Dependents\"].replace([\"Yes\",\"No\"],[1,0],inplace=True)\n",
        "df[\"PhoneService\"].replace([\"Yes\",\"No\"],[1,0],inplace=True)\n",
        "df[\"Churn\"].replace([\"Yes\",\"No\"],[1,0],inplace=True)\n",
        "df[\"DeviceProtection\"].replace([\"Yes\",\"No\",\"No internet service\"],[1,0,-1],inplace=True)\n",
        "df[\"Contract\"].replace([\"Month-to-month\",\"One year\",\"Two year\"],[0,1,2],inplace=True)\n",
        "df[\"InternetService\"].replace([\"DSL\",\"Fiber optic\",\"No\"],[2,1,0],inplace=True)\n",
        "df[\"TechSupport\"].replace([\"Yes\",\"No\",\"No internet service\"],[1,0,-1],inplace=True)\n",
        "df[\"OnlineBackup\"].replace([\"No\",\"Yes\",\"No internet service\"],[0,1,-1],inplace=True)\n",
        "df[\"StreamingMovies\"].replace([\"No\",\"Yes\",\"No internet service\"],[0,1,-1],inplace=True)\n",
        "df[\"PaperlessBilling\"].replace([\"Yes\",\"No\"],[1,0],inplace=True)\n",
        "df[\"gender\"].replace([\"Female\",\"Male\"],[0,1],inplace=True)\n",
        "df[\"StreamingTV\"].replace([\"No\",\"Yes\",\"No internet service\"],[0,1,-1],inplace=True)\n",
        "df[\"MultipleLines\"].replace([\"Yes\",\"No\",\"No phone service\"],[1,0,-1],inplace=True)\n",
        "df[\"OnlineSecurity\"].replace([\"No\",\"Yes\",\"No internet service\"],[0,1,-1],inplace=True)\n",
        "\n",
        "\n"
      ],
      "execution_count": 200,
      "outputs": []
    },
    {
      "cell_type": "code",
      "metadata": {
        "id": "PesOkvwuyB6W",
        "colab_type": "code",
        "colab": {}
      },
      "source": [
        "df[\"TotalCharges\"].replace([' '],[0],inplace=True)\n",
        "df[\"TotalCharges\"] = df[\"TotalCharges\"].astype(\"float64\")\n",
        "data1 = df[df['TotalCharges'] != 0] \n",
        "m1 = data1['TotalCharges'].mean()\n",
        "df['TotalCharges'].replace([0],[m1],inplace = True)\n"
      ],
      "execution_count": 201,
      "outputs": []
    },
    {
      "cell_type": "code",
      "metadata": {
        "id": "DQfJpAk6hzY7",
        "colab_type": "code",
        "colab": {
          "base_uri": "https://localhost:8080/",
          "height": 630
        },
        "outputId": "0c564eb5-1f61-4f17-a781-c0db1ac5fd9c"
      },
      "source": [
        "df.corr()"
      ],
      "execution_count": 202,
      "outputs": [
        {
          "output_type": "execute_result",
          "data": {
            "text/html": [
              "<div>\n",
              "<style scoped>\n",
              "    .dataframe tbody tr th:only-of-type {\n",
              "        vertical-align: middle;\n",
              "    }\n",
              "\n",
              "    .dataframe tbody tr th {\n",
              "        vertical-align: top;\n",
              "    }\n",
              "\n",
              "    .dataframe thead th {\n",
              "        text-align: right;\n",
              "    }\n",
              "</style>\n",
              "<table border=\"1\" class=\"dataframe\">\n",
              "  <thead>\n",
              "    <tr style=\"text-align: right;\">\n",
              "      <th></th>\n",
              "      <th>gender</th>\n",
              "      <th>SeniorCitizen</th>\n",
              "      <th>Partner</th>\n",
              "      <th>Dependents</th>\n",
              "      <th>tenure</th>\n",
              "      <th>PhoneService</th>\n",
              "      <th>MultipleLines</th>\n",
              "      <th>InternetService</th>\n",
              "      <th>OnlineSecurity</th>\n",
              "      <th>OnlineBackup</th>\n",
              "      <th>DeviceProtection</th>\n",
              "      <th>TechSupport</th>\n",
              "      <th>StreamingTV</th>\n",
              "      <th>StreamingMovies</th>\n",
              "      <th>Contract</th>\n",
              "      <th>PaperlessBilling</th>\n",
              "      <th>MonthlyCharges</th>\n",
              "      <th>TotalCharges</th>\n",
              "      <th>Churn</th>\n",
              "    </tr>\n",
              "  </thead>\n",
              "  <tbody>\n",
              "    <tr>\n",
              "      <th>gender</th>\n",
              "      <td>1.000000</td>\n",
              "      <td>-0.001874</td>\n",
              "      <td>-0.001808</td>\n",
              "      <td>0.010517</td>\n",
              "      <td>0.005106</td>\n",
              "      <td>-0.006488</td>\n",
              "      <td>-0.009451</td>\n",
              "      <td>0.000863</td>\n",
              "      <td>-0.014418</td>\n",
              "      <td>-0.012230</td>\n",
              "      <td>-0.004720</td>\n",
              "      <td>-0.009409</td>\n",
              "      <td>-0.008673</td>\n",
              "      <td>-0.010011</td>\n",
              "      <td>0.000126</td>\n",
              "      <td>-0.011754</td>\n",
              "      <td>-0.014569</td>\n",
              "      <td>0.000048</td>\n",
              "      <td>-0.008612</td>\n",
              "    </tr>\n",
              "    <tr>\n",
              "      <th>SeniorCitizen</th>\n",
              "      <td>-0.001874</td>\n",
              "      <td>1.000000</td>\n",
              "      <td>0.016479</td>\n",
              "      <td>-0.211185</td>\n",
              "      <td>0.016567</td>\n",
              "      <td>0.008576</td>\n",
              "      <td>0.113791</td>\n",
              "      <td>0.032310</td>\n",
              "      <td>0.081878</td>\n",
              "      <td>0.144828</td>\n",
              "      <td>0.140298</td>\n",
              "      <td>0.067457</td>\n",
              "      <td>0.167188</td>\n",
              "      <td>0.176469</td>\n",
              "      <td>-0.142554</td>\n",
              "      <td>0.156530</td>\n",
              "      <td>0.220173</td>\n",
              "      <td>0.102395</td>\n",
              "      <td>0.150889</td>\n",
              "    </tr>\n",
              "    <tr>\n",
              "      <th>Partner</th>\n",
              "      <td>-0.001808</td>\n",
              "      <td>0.016479</td>\n",
              "      <td>1.000000</td>\n",
              "      <td>0.452676</td>\n",
              "      <td>0.379697</td>\n",
              "      <td>0.017706</td>\n",
              "      <td>0.117307</td>\n",
              "      <td>-0.000891</td>\n",
              "      <td>0.091303</td>\n",
              "      <td>0.090753</td>\n",
              "      <td>0.098664</td>\n",
              "      <td>0.076551</td>\n",
              "      <td>0.079785</td>\n",
              "      <td>0.075098</td>\n",
              "      <td>0.294806</td>\n",
              "      <td>-0.014877</td>\n",
              "      <td>0.096848</td>\n",
              "      <td>0.318812</td>\n",
              "      <td>-0.150448</td>\n",
              "    </tr>\n",
              "    <tr>\n",
              "      <th>Dependents</th>\n",
              "      <td>0.010517</td>\n",
              "      <td>-0.211185</td>\n",
              "      <td>0.452676</td>\n",
              "      <td>1.000000</td>\n",
              "      <td>0.159712</td>\n",
              "      <td>-0.001762</td>\n",
              "      <td>-0.019657</td>\n",
              "      <td>-0.044590</td>\n",
              "      <td>-0.029721</td>\n",
              "      <td>-0.062775</td>\n",
              "      <td>-0.069078</td>\n",
              "      <td>-0.040788</td>\n",
              "      <td>-0.086739</td>\n",
              "      <td>-0.101475</td>\n",
              "      <td>0.243187</td>\n",
              "      <td>-0.111377</td>\n",
              "      <td>-0.113890</td>\n",
              "      <td>0.064535</td>\n",
              "      <td>-0.164221</td>\n",
              "    </tr>\n",
              "    <tr>\n",
              "      <th>tenure</th>\n",
              "      <td>0.005106</td>\n",
              "      <td>0.016567</td>\n",
              "      <td>0.379697</td>\n",
              "      <td>0.159712</td>\n",
              "      <td>1.000000</td>\n",
              "      <td>0.008448</td>\n",
              "      <td>0.258958</td>\n",
              "      <td>0.030359</td>\n",
              "      <td>0.232373</td>\n",
              "      <td>0.253743</td>\n",
              "      <td>0.253999</td>\n",
              "      <td>0.230522</td>\n",
              "      <td>0.201053</td>\n",
              "      <td>0.205031</td>\n",
              "      <td>0.671607</td>\n",
              "      <td>0.006152</td>\n",
              "      <td>0.247900</td>\n",
              "      <td>0.824757</td>\n",
              "      <td>-0.352229</td>\n",
              "    </tr>\n",
              "    <tr>\n",
              "      <th>PhoneService</th>\n",
              "      <td>-0.006488</td>\n",
              "      <td>0.008576</td>\n",
              "      <td>0.017706</td>\n",
              "      <td>-0.001762</td>\n",
              "      <td>0.008448</td>\n",
              "      <td>1.000000</td>\n",
              "      <td>0.675070</td>\n",
              "      <td>-0.387436</td>\n",
              "      <td>-0.159989</td>\n",
              "      <td>-0.129770</td>\n",
              "      <td>-0.142012</td>\n",
              "      <td>-0.161930</td>\n",
              "      <td>-0.108239</td>\n",
              "      <td>-0.114715</td>\n",
              "      <td>0.002247</td>\n",
              "      <td>0.016505</td>\n",
              "      <td>0.247398</td>\n",
              "      <td>0.112851</td>\n",
              "      <td>0.011942</td>\n",
              "    </tr>\n",
              "    <tr>\n",
              "      <th>MultipleLines</th>\n",
              "      <td>-0.009451</td>\n",
              "      <td>0.113791</td>\n",
              "      <td>0.117307</td>\n",
              "      <td>-0.019657</td>\n",
              "      <td>0.258958</td>\n",
              "      <td>0.675070</td>\n",
              "      <td>1.000000</td>\n",
              "      <td>-0.186826</td>\n",
              "      <td>0.069085</td>\n",
              "      <td>0.130619</td>\n",
              "      <td>0.124502</td>\n",
              "      <td>0.069149</td>\n",
              "      <td>0.165254</td>\n",
              "      <td>0.162841</td>\n",
              "      <td>0.083343</td>\n",
              "      <td>0.133255</td>\n",
              "      <td>0.490700</td>\n",
              "      <td>0.412079</td>\n",
              "      <td>0.036310</td>\n",
              "    </tr>\n",
              "    <tr>\n",
              "      <th>InternetService</th>\n",
              "      <td>0.000863</td>\n",
              "      <td>0.032310</td>\n",
              "      <td>-0.000891</td>\n",
              "      <td>-0.044590</td>\n",
              "      <td>0.030359</td>\n",
              "      <td>-0.387436</td>\n",
              "      <td>-0.186826</td>\n",
              "      <td>1.000000</td>\n",
              "      <td>0.720587</td>\n",
              "      <td>0.650962</td>\n",
              "      <td>0.646159</td>\n",
              "      <td>0.716993</td>\n",
              "      <td>0.593193</td>\n",
              "      <td>0.597266</td>\n",
              "      <td>-0.099721</td>\n",
              "      <td>0.138625</td>\n",
              "      <td>0.323260</td>\n",
              "      <td>0.175429</td>\n",
              "      <td>0.047291</td>\n",
              "    </tr>\n",
              "    <tr>\n",
              "      <th>OnlineSecurity</th>\n",
              "      <td>-0.014418</td>\n",
              "      <td>0.081878</td>\n",
              "      <td>0.091303</td>\n",
              "      <td>-0.029721</td>\n",
              "      <td>0.232373</td>\n",
              "      <td>-0.159989</td>\n",
              "      <td>0.069085</td>\n",
              "      <td>0.720587</td>\n",
              "      <td>1.000000</td>\n",
              "      <td>0.705166</td>\n",
              "      <td>0.701690</td>\n",
              "      <td>0.735191</td>\n",
              "      <td>0.662220</td>\n",
              "      <td>0.667033</td>\n",
              "      <td>0.015824</td>\n",
              "      <td>0.184993</td>\n",
              "      <td>0.635534</td>\n",
              "      <td>0.482445</td>\n",
              "      <td>0.023309</td>\n",
              "    </tr>\n",
              "    <tr>\n",
              "      <th>OnlineBackup</th>\n",
              "      <td>-0.012230</td>\n",
              "      <td>0.144828</td>\n",
              "      <td>0.090753</td>\n",
              "      <td>-0.062775</td>\n",
              "      <td>0.253743</td>\n",
              "      <td>-0.129770</td>\n",
              "      <td>0.130619</td>\n",
              "      <td>0.650962</td>\n",
              "      <td>0.705166</td>\n",
              "      <td>1.000000</td>\n",
              "      <td>0.711335</td>\n",
              "      <td>0.709216</td>\n",
              "      <td>0.703167</td>\n",
              "      <td>0.700158</td>\n",
              "      <td>-0.035407</td>\n",
              "      <td>0.260715</td>\n",
              "      <td>0.710477</td>\n",
              "      <td>0.536976</td>\n",
              "      <td>0.074205</td>\n",
              "    </tr>\n",
              "    <tr>\n",
              "      <th>DeviceProtection</th>\n",
              "      <td>-0.004720</td>\n",
              "      <td>0.140298</td>\n",
              "      <td>0.098664</td>\n",
              "      <td>-0.069078</td>\n",
              "      <td>0.253999</td>\n",
              "      <td>-0.142012</td>\n",
              "      <td>0.124502</td>\n",
              "      <td>0.646159</td>\n",
              "      <td>0.701690</td>\n",
              "      <td>0.711335</td>\n",
              "      <td>1.000000</td>\n",
              "      <td>0.725327</td>\n",
              "      <td>0.748182</td>\n",
              "      <td>0.752952</td>\n",
              "      <td>0.005848</td>\n",
              "      <td>0.246069</td>\n",
              "      <td>0.737104</td>\n",
              "      <td>0.545338</td>\n",
              "      <td>0.084654</td>\n",
              "    </tr>\n",
              "    <tr>\n",
              "      <th>TechSupport</th>\n",
              "      <td>-0.009409</td>\n",
              "      <td>0.067457</td>\n",
              "      <td>0.076551</td>\n",
              "      <td>-0.040788</td>\n",
              "      <td>0.230522</td>\n",
              "      <td>-0.161930</td>\n",
              "      <td>0.069149</td>\n",
              "      <td>0.716993</td>\n",
              "      <td>0.735191</td>\n",
              "      <td>0.709216</td>\n",
              "      <td>0.725327</td>\n",
              "      <td>1.000000</td>\n",
              "      <td>0.703866</td>\n",
              "      <td>0.704587</td>\n",
              "      <td>0.047218</td>\n",
              "      <td>0.211031</td>\n",
              "      <td>0.661032</td>\n",
              "      <td>0.494914</td>\n",
              "      <td>0.027037</td>\n",
              "    </tr>\n",
              "    <tr>\n",
              "      <th>StreamingTV</th>\n",
              "      <td>-0.008673</td>\n",
              "      <td>0.167188</td>\n",
              "      <td>0.079785</td>\n",
              "      <td>-0.086739</td>\n",
              "      <td>0.201053</td>\n",
              "      <td>-0.108239</td>\n",
              "      <td>0.165254</td>\n",
              "      <td>0.593193</td>\n",
              "      <td>0.662220</td>\n",
              "      <td>0.703167</td>\n",
              "      <td>0.748182</td>\n",
              "      <td>0.703866</td>\n",
              "      <td>1.000000</td>\n",
              "      <td>0.807221</td>\n",
              "      <td>-0.065128</td>\n",
              "      <td>0.318581</td>\n",
              "      <td>0.820225</td>\n",
              "      <td>0.534886</td>\n",
              "      <td>0.164673</td>\n",
              "    </tr>\n",
              "    <tr>\n",
              "      <th>StreamingMovies</th>\n",
              "      <td>-0.010011</td>\n",
              "      <td>0.176469</td>\n",
              "      <td>0.075098</td>\n",
              "      <td>-0.101475</td>\n",
              "      <td>0.205031</td>\n",
              "      <td>-0.114715</td>\n",
              "      <td>0.162841</td>\n",
              "      <td>0.597266</td>\n",
              "      <td>0.667033</td>\n",
              "      <td>0.700158</td>\n",
              "      <td>0.752952</td>\n",
              "      <td>0.704587</td>\n",
              "      <td>0.807221</td>\n",
              "      <td>1.000000</td>\n",
              "      <td>-0.062583</td>\n",
              "      <td>0.310385</td>\n",
              "      <td>0.817842</td>\n",
              "      <td>0.537095</td>\n",
              "      <td>0.163220</td>\n",
              "    </tr>\n",
              "    <tr>\n",
              "      <th>Contract</th>\n",
              "      <td>0.000126</td>\n",
              "      <td>-0.142554</td>\n",
              "      <td>0.294806</td>\n",
              "      <td>0.243187</td>\n",
              "      <td>0.671607</td>\n",
              "      <td>0.002247</td>\n",
              "      <td>0.083343</td>\n",
              "      <td>-0.099721</td>\n",
              "      <td>0.015824</td>\n",
              "      <td>-0.035407</td>\n",
              "      <td>0.005848</td>\n",
              "      <td>0.047218</td>\n",
              "      <td>-0.065128</td>\n",
              "      <td>-0.062583</td>\n",
              "      <td>1.000000</td>\n",
              "      <td>-0.176733</td>\n",
              "      <td>-0.074195</td>\n",
              "      <td>0.449511</td>\n",
              "      <td>-0.396713</td>\n",
              "    </tr>\n",
              "    <tr>\n",
              "      <th>PaperlessBilling</th>\n",
              "      <td>-0.011754</td>\n",
              "      <td>0.156530</td>\n",
              "      <td>-0.014877</td>\n",
              "      <td>-0.111377</td>\n",
              "      <td>0.006152</td>\n",
              "      <td>0.016505</td>\n",
              "      <td>0.133255</td>\n",
              "      <td>0.138625</td>\n",
              "      <td>0.184993</td>\n",
              "      <td>0.260715</td>\n",
              "      <td>0.246069</td>\n",
              "      <td>0.211031</td>\n",
              "      <td>0.318581</td>\n",
              "      <td>0.310385</td>\n",
              "      <td>-0.176733</td>\n",
              "      <td>1.000000</td>\n",
              "      <td>0.352150</td>\n",
              "      <td>0.157676</td>\n",
              "      <td>0.191825</td>\n",
              "    </tr>\n",
              "    <tr>\n",
              "      <th>MonthlyCharges</th>\n",
              "      <td>-0.014569</td>\n",
              "      <td>0.220173</td>\n",
              "      <td>0.096848</td>\n",
              "      <td>-0.113890</td>\n",
              "      <td>0.247900</td>\n",
              "      <td>0.247398</td>\n",
              "      <td>0.490700</td>\n",
              "      <td>0.323260</td>\n",
              "      <td>0.635534</td>\n",
              "      <td>0.710477</td>\n",
              "      <td>0.737104</td>\n",
              "      <td>0.661032</td>\n",
              "      <td>0.820225</td>\n",
              "      <td>0.817842</td>\n",
              "      <td>-0.074195</td>\n",
              "      <td>0.352150</td>\n",
              "      <td>1.000000</td>\n",
              "      <td>0.650468</td>\n",
              "      <td>0.193356</td>\n",
              "    </tr>\n",
              "    <tr>\n",
              "      <th>TotalCharges</th>\n",
              "      <td>0.000048</td>\n",
              "      <td>0.102395</td>\n",
              "      <td>0.318812</td>\n",
              "      <td>0.064535</td>\n",
              "      <td>0.824757</td>\n",
              "      <td>0.112851</td>\n",
              "      <td>0.412079</td>\n",
              "      <td>0.175429</td>\n",
              "      <td>0.482445</td>\n",
              "      <td>0.536976</td>\n",
              "      <td>0.545338</td>\n",
              "      <td>0.494914</td>\n",
              "      <td>0.534886</td>\n",
              "      <td>0.537095</td>\n",
              "      <td>0.449511</td>\n",
              "      <td>0.157676</td>\n",
              "      <td>0.650468</td>\n",
              "      <td>1.000000</td>\n",
              "      <td>-0.199428</td>\n",
              "    </tr>\n",
              "    <tr>\n",
              "      <th>Churn</th>\n",
              "      <td>-0.008612</td>\n",
              "      <td>0.150889</td>\n",
              "      <td>-0.150448</td>\n",
              "      <td>-0.164221</td>\n",
              "      <td>-0.352229</td>\n",
              "      <td>0.011942</td>\n",
              "      <td>0.036310</td>\n",
              "      <td>0.047291</td>\n",
              "      <td>0.023309</td>\n",
              "      <td>0.074205</td>\n",
              "      <td>0.084654</td>\n",
              "      <td>0.027037</td>\n",
              "      <td>0.164673</td>\n",
              "      <td>0.163220</td>\n",
              "      <td>-0.396713</td>\n",
              "      <td>0.191825</td>\n",
              "      <td>0.193356</td>\n",
              "      <td>-0.199428</td>\n",
              "      <td>1.000000</td>\n",
              "    </tr>\n",
              "  </tbody>\n",
              "</table>\n",
              "</div>"
            ],
            "text/plain": [
              "                    gender  SeniorCitizen  ...  TotalCharges     Churn\n",
              "gender            1.000000      -0.001874  ...      0.000048 -0.008612\n",
              "SeniorCitizen    -0.001874       1.000000  ...      0.102395  0.150889\n",
              "Partner          -0.001808       0.016479  ...      0.318812 -0.150448\n",
              "Dependents        0.010517      -0.211185  ...      0.064535 -0.164221\n",
              "tenure            0.005106       0.016567  ...      0.824757 -0.352229\n",
              "PhoneService     -0.006488       0.008576  ...      0.112851  0.011942\n",
              "MultipleLines    -0.009451       0.113791  ...      0.412079  0.036310\n",
              "InternetService   0.000863       0.032310  ...      0.175429  0.047291\n",
              "OnlineSecurity   -0.014418       0.081878  ...      0.482445  0.023309\n",
              "OnlineBackup     -0.012230       0.144828  ...      0.536976  0.074205\n",
              "DeviceProtection -0.004720       0.140298  ...      0.545338  0.084654\n",
              "TechSupport      -0.009409       0.067457  ...      0.494914  0.027037\n",
              "StreamingTV      -0.008673       0.167188  ...      0.534886  0.164673\n",
              "StreamingMovies  -0.010011       0.176469  ...      0.537095  0.163220\n",
              "Contract          0.000126      -0.142554  ...      0.449511 -0.396713\n",
              "PaperlessBilling -0.011754       0.156530  ...      0.157676  0.191825\n",
              "MonthlyCharges   -0.014569       0.220173  ...      0.650468  0.193356\n",
              "TotalCharges      0.000048       0.102395  ...      1.000000 -0.199428\n",
              "Churn            -0.008612       0.150889  ...     -0.199428  1.000000\n",
              "\n",
              "[19 rows x 19 columns]"
            ]
          },
          "metadata": {
            "tags": []
          },
          "execution_count": 202
        }
      ]
    },
    {
      "cell_type": "code",
      "metadata": {
        "id": "DDKyYgl8iB41",
        "colab_type": "code",
        "colab": {}
      },
      "source": [
        "x = df.drop(['customerID','PaymentMethod','Churn'],axis = 1)\n",
        "y = df.Churn"
      ],
      "execution_count": 203,
      "outputs": []
    },
    {
      "cell_type": "code",
      "metadata": {
        "id": "1CGfPMPtvdFl",
        "colab_type": "code",
        "colab": {}
      },
      "source": [
        "feature_names = x.columns"
      ],
      "execution_count": 204,
      "outputs": []
    },
    {
      "cell_type": "code",
      "metadata": {
        "id": "-5_-lSxi8-I0",
        "colab_type": "code",
        "colab": {}
      },
      "source": [
        "from sklearn.preprocessing import MinMaxScaler"
      ],
      "execution_count": 205,
      "outputs": []
    },
    {
      "cell_type": "code",
      "metadata": {
        "id": "v4QFD-Qe8-TH",
        "colab_type": "code",
        "colab": {}
      },
      "source": [
        "scaler = MinMaxScaler()"
      ],
      "execution_count": 206,
      "outputs": []
    },
    {
      "cell_type": "code",
      "metadata": {
        "id": "GtGedCoD8-c4",
        "colab_type": "code",
        "colab": {
          "base_uri": "https://localhost:8080/",
          "height": 34
        },
        "outputId": "d46844b8-ec19-4b72-adac-c203eae3dbf3"
      },
      "source": [
        "scaler.fit(x)"
      ],
      "execution_count": 207,
      "outputs": [
        {
          "output_type": "execute_result",
          "data": {
            "text/plain": [
              "MinMaxScaler()"
            ]
          },
          "metadata": {
            "tags": []
          },
          "execution_count": 207
        }
      ]
    },
    {
      "cell_type": "code",
      "metadata": {
        "id": "n86iUd0l8-mX",
        "colab_type": "code",
        "colab": {}
      },
      "source": [
        "x = scaler.transform(x)"
      ],
      "execution_count": 208,
      "outputs": []
    },
    {
      "cell_type": "code",
      "metadata": {
        "id": "MP_z-cui8-uS",
        "colab_type": "code",
        "colab": {}
      },
      "source": [
        "x_train, x_test, y_train, y_test = train_test_split(x, y, stratify=y, random_state = 0)"
      ],
      "execution_count": 209,
      "outputs": []
    },
    {
      "cell_type": "code",
      "metadata": {
        "id": "8H1Gt8K5gXf1",
        "colab_type": "code",
        "colab": {}
      },
      "source": [
        "from sklearn.tree import DecisionTreeClassifier,plot_tree\n",
        "tree = DecisionTreeClassifier(max_depth=2)\n",
        "tree.fit(x_train,y_train)\n",
        "import matplotlib.pyplot as plt\n"
      ],
      "execution_count": 210,
      "outputs": []
    },
    {
      "cell_type": "code",
      "metadata": {
        "id": "aiWtlTF3gXaH",
        "colab_type": "code",
        "colab": {
          "base_uri": "https://localhost:8080/",
          "height": 457
        },
        "outputId": "eb4a3514-0266-4ce5-81b2-8dda600fb5d1"
      },
      "source": [
        "plt.figure(dpi=100)\n",
        "plot_tree(tree,feature_names=feature_names, filled=True)"
      ],
      "execution_count": 211,
      "outputs": [
        {
          "output_type": "execute_result",
          "data": {
            "text/plain": [
              "[Text(232.5, 251.66666666666666, 'Contract <= 0.25\\ngini = 0.39\\nsamples = 5282\\nvalue = [3880, 1402]'),\n",
              " Text(116.25, 151.0, 'MonthlyCharges <= 0.504\\ngini = 0.489\\nsamples = 2930\\nvalue = [1682, 1248]'),\n",
              " Text(58.125, 50.333333333333314, 'gini = 0.409\\nsamples = 1265\\nvalue = [902, 363]'),\n",
              " Text(174.375, 50.333333333333314, 'gini = 0.498\\nsamples = 1665\\nvalue = [780, 885]'),\n",
              " Text(348.75, 151.0, 'MonthlyCharges <= 0.75\\ngini = 0.122\\nsamples = 2352\\nvalue = [2198, 154]'),\n",
              " Text(290.625, 50.333333333333314, 'gini = 0.078\\nsamples = 1799\\nvalue = [1726, 73]'),\n",
              " Text(406.875, 50.333333333333314, 'gini = 0.25\\nsamples = 553\\nvalue = [472, 81]')]"
            ]
          },
          "metadata": {
            "tags": []
          },
          "execution_count": 211
        },
        {
          "output_type": "display_data",
          "data": {
            "image/png": "[encoded data removed]",
            "text/plain": [
              "<Figure size 600x400 with 1 Axes>"
            ]
          },
          "metadata": {
            "tags": [],
            "needs_background": "light"
          }
        }
      ]
    },
    {
      "cell_type": "code",
      "metadata": {
        "id": "Do19l-6QgXS6",
        "colab_type": "code",
        "colab": {
          "base_uri": "https://localhost:8080/",
          "height": 1000
        },
        "outputId": "aceb0d77-ea2e-4729-a0ee-96e8fbc8800c"
      },
      "source": [
        "tree = DecisionTreeClassifier(max_depth=6).fit(x_train, y_train)\n",
        "plt.figure(figsize=(15,5))\n",
        "plot_tree(tree,feature_names=feature_names, filled=True)"
      ],
      "execution_count": 212,
      "outputs": [
        {
          "output_type": "execute_result",
          "data": {
            "text/plain": [
              "[Text(455.06796116504853, 252.3857142857143, 'Contract <= 0.25\\ngini = 0.39\\nsamples = 5282\\nvalue = [3880, 1402]'),\n",
              " Text(237.69174757281553, 213.55714285714288, 'MonthlyCharges <= 0.504\\ngini = 0.489\\nsamples = 2930\\nvalue = [1682, 1248]'),\n",
              " Text(119.86165048543688, 174.72857142857146, 'tenure <= 0.049\\ngini = 0.409\\nsamples = 1265\\nvalue = [902, 363]'),\n",
              " Text(65.00970873786407, 135.9, 'InternetService <= 0.25\\ngini = 0.492\\nsamples = 453\\nvalue = [255, 198]'),\n",
              " Text(32.50485436893204, 97.07142857142858, 'TotalCharges <= 0.0\\ngini = 0.414\\nsamples = 191\\nvalue = [135, 56]'),\n",
              " Text(16.25242718446602, 58.24285714285716, 'SeniorCitizen <= 0.5\\ngini = 0.475\\nsamples = 124\\nvalue = [76, 48]'),\n",
              " Text(8.12621359223301, 19.41428571428571, 'gini = 0.467\\nsamples = 121\\nvalue = [76, 45]'),\n",
              " Text(24.37864077669903, 19.41428571428571, 'gini = 0.0\\nsamples = 3\\nvalue = [0, 3]'),\n",
              " Text(48.75728155339806, 58.24285714285716, 'MonthlyCharges <= 0.016\\ngini = 0.21\\nsamples = 67\\nvalue = [59, 8]'),\n",
              " Text(40.631067961165044, 19.41428571428571, 'gini = 0.34\\nsamples = 23\\nvalue = [18, 5]'),\n",
              " Text(56.883495145631066, 19.41428571428571, 'gini = 0.127\\nsamples = 44\\nvalue = [41, 3]'),\n",
              " Text(97.51456310679612, 97.07142857142858, 'SeniorCitizen <= 0.5\\ngini = 0.496\\nsamples = 262\\nvalue = [120, 142]'),\n",
              " Text(81.26213592233009, 58.24285714285716, 'PaperlessBilling <= 0.5\\ngini = 0.5\\nsamples = 231\\nvalue = [114, 117]'),\n",
              " Text(73.13592233009709, 19.41428571428571, 'gini = 0.485\\nsamples = 97\\nvalue = [57, 40]'),\n",
              " Text(89.3883495145631, 19.41428571428571, 'gini = 0.489\\nsamples = 134\\nvalue = [57, 77]'),\n",
              " Text(113.76699029126213, 58.24285714285716, 'MonthlyCharges <= 0.252\\ngini = 0.312\\nsamples = 31\\nvalue = [6, 25]'),\n",
              " Text(105.64077669902912, 19.41428571428571, 'gini = 0.0\\nsamples = 12\\nvalue = [0, 12]'),\n",
              " Text(121.89320388349513, 19.41428571428571, 'gini = 0.432\\nsamples = 19\\nvalue = [6, 13]'),\n",
              " Text(174.7135922330097, 135.9, 'InternetService <= 0.75\\ngini = 0.324\\nsamples = 812\\nvalue = [647, 165]'),\n",
              " Text(154.39805825242718, 97.07142857142858, 'tenure <= 0.806\\ngini = 0.171\\nsamples = 223\\nvalue = [202, 21]'),\n",
              " Text(146.27184466019418, 58.24285714285716, 'MonthlyCharges <= 0.018\\ngini = 0.164\\nsamples = 222\\nvalue = [202, 20]'),\n",
              " Text(138.14563106796115, 19.41428571428571, 'gini = 0.249\\nsamples = 103\\nvalue = [88, 15]'),\n",
              " Text(154.39805825242718, 19.41428571428571, 'gini = 0.081\\nsamples = 119\\nvalue = [114, 5]'),\n",
              " Text(162.52427184466018, 58.24285714285716, 'gini = 0.0\\nsamples = 1\\nvalue = [0, 1]'),\n",
              " Text(195.02912621359224, 97.07142857142858, 'TotalCharges <= 0.034\\ngini = 0.369\\nsamples = 589\\nvalue = [445, 144]'),\n",
              " Text(178.7766990291262, 58.24285714285716, 'MonthlyCharges <= 0.36\\ngini = 0.482\\nsamples = 99\\nvalue = [59, 40]'),\n",
              " Text(170.6504854368932, 19.41428571428571, 'gini = 0.496\\nsamples = 83\\nvalue = [45, 38]'),\n",
              " Text(186.9029126213592, 19.41428571428571, 'gini = 0.219\\nsamples = 16\\nvalue = [14, 2]'),\n",
              " Text(211.28155339805824, 58.24285714285716, 'TotalCharges <= 0.143\\ngini = 0.334\\nsamples = 490\\nvalue = [386, 104]'),\n",
              " Text(203.15533980582524, 19.41428571428571, 'gini = 0.378\\nsamples = 292\\nvalue = [218, 74]'),\n",
              " Text(219.40776699029124, 19.41428571428571, 'gini = 0.257\\nsamples = 198\\nvalue = [168, 30]'),\n",
              " Text(355.5218446601942, 174.72857142857146, 'tenure <= 0.215\\ngini = 0.498\\nsamples = 1665\\nvalue = [780, 885]'),\n",
              " Text(292.54368932038835, 135.9, 'TotalCharges <= 0.011\\ngini = 0.437\\nsamples = 800\\nvalue = [258, 542]'),\n",
              " Text(260.0388349514563, 97.07142857142858, 'TechSupport <= 0.75\\ngini = 0.232\\nsamples = 187\\nvalue = [25, 162]'),\n",
              " Text(243.78640776699027, 58.24285714285716, 'MonthlyCharges <= 0.514\\ngini = 0.198\\nsamples = 180\\nvalue = [20, 160]'),\n",
              " Text(235.66019417475727, 19.41428571428571, 'gini = 0.0\\nsamples = 25\\nvalue = [0, 25]'),\n",
              " Text(251.9126213592233, 19.41428571428571, 'gini = 0.225\\nsamples = 155\\nvalue = [20, 135]'),\n",
              " Text(276.2912621359223, 58.24285714285716, 'MonthlyCharges <= 0.655\\ngini = 0.408\\nsamples = 7\\nvalue = [5, 2]'),\n",
              " Text(268.1650485436893, 19.41428571428571, 'gini = 0.0\\nsamples = 4\\nvalue = [4, 0]'),\n",
              " Text(284.4174757281553, 19.41428571428571, 'gini = 0.444\\nsamples = 3\\nvalue = [1, 2]'),\n",
              " Text(325.04854368932035, 97.07142857142858, 'MultipleLines <= 0.75\\ngini = 0.471\\nsamples = 613\\nvalue = [233, 380]'),\n",
              " Text(308.79611650485435, 58.24285714285716, 'MonthlyCharges <= 0.604\\ngini = 0.498\\nsamples = 341\\nvalue = [160, 181]'),\n",
              " Text(300.66990291262135, 19.41428571428571, 'gini = 0.487\\nsamples = 153\\nvalue = [89, 64]'),\n",
              " Text(316.92233009708735, 19.41428571428571, 'gini = 0.47\\nsamples = 188\\nvalue = [71, 117]'),\n",
              " Text(341.3009708737864, 58.24285714285716, 'OnlineSecurity <= 0.75\\ngini = 0.393\\nsamples = 272\\nvalue = [73, 199]'),\n",
              " Text(333.17475728155335, 19.41428571428571, 'gini = 0.347\\nsamples = 242\\nvalue = [54, 188]'),\n",
              " Text(349.4271844660194, 19.41428571428571, 'gini = 0.464\\nsamples = 30\\nvalue = [19, 11]'),\n",
              " Text(418.5, 135.9, 'InternetService <= 0.75\\ngini = 0.479\\nsamples = 865\\nvalue = [522, 343]'),\n",
              " Text(390.05825242718447, 97.07142857142858, 'tenure <= 0.715\\ngini = 0.486\\nsamples = 822\\nvalue = [480, 342]'),\n",
              " Text(373.8058252427184, 58.24285714285716, 'PaperlessBilling <= 0.5\\ngini = 0.497\\nsamples = 661\\nvalue = [356, 305]'),\n",
              " Text(365.6796116504854, 19.41428571428571, 'gini = 0.427\\nsamples = 126\\nvalue = [87, 39]'),\n",
              " Text(381.9320388349514, 19.41428571428571, 'gini = 0.5\\nsamples = 535\\nvalue = [269, 266]'),\n",
              " Text(406.31067961165047, 58.24285714285716, 'StreamingTV <= 0.75\\ngini = 0.354\\nsamples = 161\\nvalue = [124, 37]'),\n",
              " Text(398.18446601941747, 19.41428571428571, 'gini = 0.2\\nsamples = 62\\nvalue = [55, 7]'),\n",
              " Text(414.43689320388347, 19.41428571428571, 'gini = 0.422\\nsamples = 99\\nvalue = [69, 30]'),\n",
              " Text(446.94174757281553, 97.07142857142858, 'PaperlessBilling <= 0.5\\ngini = 0.045\\nsamples = 43\\nvalue = [42, 1]'),\n",
              " Text(438.8155339805825, 58.24285714285716, 'gender <= 0.5\\ngini = 0.142\\nsamples = 13\\nvalue = [12, 1]'),\n",
              " Text(430.6893203883495, 19.41428571428571, 'gini = 0.375\\nsamples = 4\\nvalue = [3, 1]'),\n",
              " Text(446.94174757281553, 19.41428571428571, 'gini = 0.0\\nsamples = 9\\nvalue = [9, 0]'),\n",
              " Text(455.06796116504853, 58.24285714285716, 'gini = 0.0\\nsamples = 30\\nvalue = [30, 0]'),\n",
              " Text(672.4441747572815, 213.55714285714288, 'MonthlyCharges <= 0.75\\ngini = 0.122\\nsamples = 2352\\nvalue = [2198, 154]'),\n",
              " Text(578.9927184466019, 174.72857142857146, 'Contract <= 0.75\\ngini = 0.078\\nsamples = 1799\\nvalue = [1726, 73]'),\n",
              " Text(520.0776699029126, 135.9, 'StreamingMovies <= 0.75\\ngini = 0.13\\nsamples = 817\\nvalue = [760, 57]'),\n",
              " Text(487.57281553398053, 97.07142857142858, 'MonthlyCharges <= 0.025\\ngini = 0.085\\nsamples = 586\\nvalue = [560, 26]'),\n",
              " Text(471.32038834951453, 58.24285714285716, 'TotalCharges <= 0.001\\ngini = 0.045\\nsamples = 219\\nvalue = [214, 5]'),\n",
              " Text(463.19417475728153, 19.41428571428571, 'gini = 0.32\\nsamples = 5\\nvalue = [4, 1]'),\n",
              " Text(479.44660194174753, 19.41428571428571, 'gini = 0.037\\nsamples = 214\\nvalue = [210, 4]'),\n",
              " Text(503.8252427184466, 58.24285714285716, 'MonthlyCharges <= 0.026\\ngini = 0.108\\nsamples = 367\\nvalue = [346, 21]'),\n",
              " Text(495.6990291262136, 19.41428571428571, 'gini = 0.5\\nsamples = 2\\nvalue = [1, 1]'),\n",
              " Text(511.9514563106796, 19.41428571428571, 'gini = 0.104\\nsamples = 365\\nvalue = [345, 20]'),\n",
              " Text(552.5825242718446, 97.07142857142858, 'TotalCharges <= 0.269\\ngini = 0.232\\nsamples = 231\\nvalue = [200, 31]'),\n",
              " Text(536.3300970873786, 58.24285714285716, 'TotalCharges <= 0.132\\ngini = 0.14\\nsamples = 79\\nvalue = [73, 6]'),\n",
              " Text(528.2038834951456, 19.41428571428571, 'gini = 0.363\\nsamples = 21\\nvalue = [16, 5]'),\n",
              " Text(544.4563106796116, 19.41428571428571, 'gini = 0.034\\nsamples = 58\\nvalue = [57, 1]'),\n",
              " Text(568.8349514563106, 58.24285714285716, 'TotalCharges <= 0.276\\ngini = 0.275\\nsamples = 152\\nvalue = [127, 25]'),\n",
              " Text(560.7087378640776, 19.41428571428571, 'gini = 0.375\\nsamples = 4\\nvalue = [1, 3]'),\n",
              " Text(576.9611650485436, 19.41428571428571, 'gini = 0.253\\nsamples = 148\\nvalue = [126, 22]'),\n",
              " Text(637.9077669902912, 135.9, 'SeniorCitizen <= 0.5\\ngini = 0.032\\nsamples = 982\\nvalue = [966, 16]'),\n",
              " Text(617.5922330097087, 97.07142857142858, 'MonthlyCharges <= 0.062\\ngini = 0.026\\nsamples = 915\\nvalue = [903, 12]'),\n",
              " Text(601.3398058252427, 58.24285714285716, 'Partner <= 0.5\\ngini = 0.006\\nsamples = 328\\nvalue = [327, 1]'),\n",
              " Text(593.2135922330096, 19.41428571428571, 'gini = 0.017\\nsamples = 115\\nvalue = [114, 1]'),\n",
              " Text(609.4660194174756, 19.41428571428571, 'gini = 0.0\\nsamples = 213\\nvalue = [213, 0]'),\n",
              " Text(633.8446601941747, 58.24285714285716, 'MonthlyCharges <= 0.062\\ngini = 0.037\\nsamples = 587\\nvalue = [576, 11]'),\n",
              " Text(625.7184466019418, 19.41428571428571, 'gini = 0.444\\nsamples = 3\\nvalue = [2, 1]'),\n",
              " Text(641.9708737864078, 19.41428571428571, 'gini = 0.034\\nsamples = 584\\nvalue = [574, 10]'),\n",
              " Text(658.2233009708738, 97.07142857142858, 'TotalCharges <= 0.512\\ngini = 0.112\\nsamples = 67\\nvalue = [63, 4]'),\n",
              " Text(650.0970873786407, 58.24285714285716, 'gini = 0.0\\nsamples = 40\\nvalue = [40, 0]'),\n",
              " Text(666.3495145631067, 58.24285714285716, 'tenure <= 0.924\\ngini = 0.252\\nsamples = 27\\nvalue = [23, 4]'),\n",
              " Text(658.2233009708738, 19.41428571428571, 'gini = 0.5\\nsamples = 6\\nvalue = [3, 3]'),\n",
              " Text(674.4757281553398, 19.41428571428571, 'gini = 0.091\\nsamples = 21\\nvalue = [20, 1]'),\n",
              " Text(765.8956310679611, 174.72857142857146, 'Contract <= 0.75\\ngini = 0.25\\nsamples = 553\\nvalue = [472, 81]'),\n",
              " Text(727.2961165048544, 135.9, 'MonthlyCharges <= 0.833\\ngini = 0.337\\nsamples = 280\\nvalue = [220, 60]'),\n",
              " Text(706.9805825242718, 97.07142857142858, 'TotalCharges <= 0.761\\ngini = 0.26\\nsamples = 137\\nvalue = [116, 21]'),\n",
              " Text(698.8543689320388, 58.24285714285716, 'TotalCharges <= 0.704\\ngini = 0.289\\nsamples = 120\\nvalue = [99, 21]'),\n",
              " Text(690.7281553398058, 19.41428571428571, 'gini = 0.245\\nsamples = 105\\nvalue = [90, 15]'),\n",
              " Text(706.9805825242718, 19.41428571428571, 'gini = 0.48\\nsamples = 15\\nvalue = [9, 6]'),\n",
              " Text(715.1067961165048, 58.24285714285716, 'gini = 0.0\\nsamples = 17\\nvalue = [17, 0]'),\n",
              " Text(747.6116504854368, 97.07142857142858, 'MonthlyCharges <= 0.841\\ngini = 0.397\\nsamples = 143\\nvalue = [104, 39]'),\n",
              " Text(731.3592233009708, 58.24285714285716, 'TotalCharges <= 0.763\\ngini = 0.444\\nsamples = 6\\nvalue = [2, 4]'),\n",
              " Text(723.2330097087378, 19.41428571428571, 'gini = 0.0\\nsamples = 4\\nvalue = [0, 4]'),\n",
              " Text(739.4854368932039, 19.41428571428571, 'gini = 0.0\\nsamples = 2\\nvalue = [2, 0]'),\n",
              " Text(763.8640776699028, 58.24285714285716, 'Dependents <= 0.5\\ngini = 0.38\\nsamples = 137\\nvalue = [102, 35]'),\n",
              " Text(755.7378640776699, 19.41428571428571, 'gini = 0.418\\nsamples = 101\\nvalue = [71, 30]'),\n",
              " Text(771.9902912621359, 19.41428571428571, 'gini = 0.239\\nsamples = 36\\nvalue = [31, 5]'),\n",
              " Text(804.4951456310679, 135.9, 'MonthlyCharges <= 0.754\\ngini = 0.142\\nsamples = 273\\nvalue = [252, 21]'),\n",
              " Text(788.2427184466019, 97.07142857142858, 'Partner <= 0.5\\ngini = 0.444\\nsamples = 3\\nvalue = [1, 2]'),\n",
              " Text(780.1165048543689, 58.24285714285716, 'gini = 0.0\\nsamples = 1\\nvalue = [1, 0]'),\n",
              " Text(796.3689320388349, 58.24285714285716, 'gini = 0.0\\nsamples = 2\\nvalue = [0, 2]'),\n",
              " Text(820.7475728155339, 97.07142857142858, 'TotalCharges <= 0.893\\ngini = 0.131\\nsamples = 270\\nvalue = [251, 19]'),\n",
              " Text(812.6213592233009, 58.24285714285716, 'MonthlyCharges <= 0.872\\ngini = 0.188\\nsamples = 181\\nvalue = [162, 19]'),\n",
              " Text(804.4951456310679, 19.41428571428571, 'gini = 0.09\\nsamples = 106\\nvalue = [101, 5]'),\n",
              " Text(820.7475728155339, 19.41428571428571, 'gini = 0.304\\nsamples = 75\\nvalue = [61, 14]'),\n",
              " Text(828.8737864077669, 58.24285714285716, 'gini = 0.0\\nsamples = 89\\nvalue = [89, 0]')]"
            ]
          },
          "metadata": {
            "tags": []
          },
          "execution_count": 212
        },
        {
          "output_type": "display_data",
          "data": {
            "image/png": "[encoded data removed]",
            "text/plain": [
              "<Figure size 1080x360 with 1 Axes>"
            ]
          },
          "metadata": {
            "tags": [],
            "needs_background": "light"
          }
        }
      ]
    },
    {
      "cell_type": "code",
      "metadata": {
        "id": "kWZ4OOexgXMt",
        "colab_type": "code",
        "colab": {
          "base_uri": "https://localhost:8080/",
          "height": 84
        },
        "outputId": "1130f751-3aa4-4450-8837-45205f53fed5"
      },
      "source": [
        "from sklearn.model_selection import GridSearchCV\n",
        "from sklearn.model_selection import StratifiedShuffleSplit\n",
        "param_grid = {'max_depth':range(1,20)}\n",
        "grid = GridSearchCV(DecisionTreeClassifier(random_state = 0),param_grid=param_grid,cv = StratifiedShuffleSplit(100),return_train_score=True)\n",
        "grid.fit(x_train, y_train)"
      ],
      "execution_count": 213,
      "outputs": [
        {
          "output_type": "execute_result",
          "data": {
            "text/plain": [
              "GridSearchCV(cv=StratifiedShuffleSplit(n_splits=100, random_state=None, test_size=None,\n",
              "            train_size=None),\n",
              "             estimator=DecisionTreeClassifier(random_state=0),\n",
              "             param_grid={'max_depth': range(1, 20)}, return_train_score=True)"
            ]
          },
          "metadata": {
            "tags": []
          },
          "execution_count": 213
        }
      ]
    },
    {
      "cell_type": "code",
      "metadata": {
        "id": "dHATQb7dgXFc",
        "colab_type": "code",
        "colab": {
          "base_uri": "https://localhost:8080/",
          "height": 34
        },
        "outputId": "c9b89855-fcd4-4394-8fa1-3efaf27801f4"
      },
      "source": [
        "grid.best_params_"
      ],
      "execution_count": 214,
      "outputs": [
        {
          "output_type": "execute_result",
          "data": {
            "text/plain": [
              "{'max_depth': 4}"
            ]
          },
          "metadata": {
            "tags": []
          },
          "execution_count": 214
        }
      ]
    },
    {
      "cell_type": "code",
      "metadata": {
        "id": "zW9btr_HgW_0",
        "colab_type": "code",
        "colab": {
          "base_uri": "https://localhost:8080/",
          "height": 297
        },
        "outputId": "598a406c-6b6e-4230-c57c-d4ef49458456"
      },
      "source": [
        "import pandas as pd\n",
        "scores = pd.DataFrame(grid.cv_results_)\n",
        "scores.plot(x='param_max_depth', y = ['mean_train_score', 'mean_test_score'], ax=plt.gca())\n",
        "plt.legend(loc=(1, 0))"
      ],
      "execution_count": 215,
      "outputs": [
        {
          "output_type": "execute_result",
          "data": {
            "text/plain": [
              "<matplotlib.legend.Legend at 0x7f27f5b8a390>"
            ]
          },
          "metadata": {
            "tags": []
          },
          "execution_count": 215
        },
        {
          "output_type": "display_data",
          "data": {
            "image/png": "[encoded data removed]",
            "text/plain": [
              "<Figure size 432x288 with 1 Axes>"
            ]
          },
          "metadata": {
            "tags": [],
            "needs_background": "light"
          }
        }
      ]
    },
    {
      "cell_type": "code",
      "metadata": {
        "id": "TgamhCicgW7J",
        "colab_type": "code",
        "colab": {
          "base_uri": "https://localhost:8080/",
          "height": 297
        },
        "outputId": "9c898ee2-787b-4af5-8ff2-0b24b8147a32"
      },
      "source": [
        "param_grid = {'max_leaf_nodes':range(2,20)}\n",
        "grid = GridSearchCV(DecisionTreeClassifier(random_state = 0),param_grid=param_grid,cv = StratifiedShuffleSplit(100,random_state=1),return_train_score=True)\n",
        "grid.fit(x_train, y_train)\n",
        "\n",
        "scores = pd.DataFrame(grid.cv_results_)\n",
        "scores.plot(x='param_max_leaf_nodes', y = ['mean_train_score', 'mean_test_score'], ax=plt.gca())\n",
        "plt.legend(loc=(1, 0))"
      ],
      "execution_count": 216,
      "outputs": [
        {
          "output_type": "execute_result",
          "data": {
            "text/plain": [
              "<matplotlib.legend.Legend at 0x7f27f590c518>"
            ]
          },
          "metadata": {
            "tags": []
          },
          "execution_count": 216
        },
        {
          "output_type": "display_data",
          "data": {
            "image/png": "[encoded data removed]",
            "text/plain": [
              "<Figure size 432x288 with 1 Axes>"
            ]
          },
          "metadata": {
            "tags": [],
            "needs_background": "light"
          }
        }
      ]
    },
    {
      "cell_type": "code",
      "metadata": {
        "id": "IS2e8PZYgW0W",
        "colab_type": "code",
        "colab": {
          "base_uri": "https://localhost:8080/",
          "height": 34
        },
        "outputId": "b086cca4-186a-4050-f861-75904e3de107"
      },
      "source": [
        "grid.best_params_"
      ],
      "execution_count": 217,
      "outputs": [
        {
          "output_type": "execute_result",
          "data": {
            "text/plain": [
              "{'max_leaf_nodes': 19}"
            ]
          },
          "metadata": {
            "tags": []
          },
          "execution_count": 217
        }
      ]
    },
    {
      "cell_type": "code",
      "metadata": {
        "id": "XtIKjilrgWwY",
        "colab_type": "code",
        "colab": {
          "base_uri": "https://localhost:8080/",
          "height": 297
        },
        "outputId": "39dadfbe-3fe3-4b56-c75e-1f75cc8a2414"
      },
      "source": [
        "scores = pd.DataFrame(grid.cv_results_)\n",
        "scores.plot(x='param_max_leaf_nodes', y = 'mean_train_score',yerr='std_train_score',ax=plt.gca())\n",
        "scores.plot(x='param_max_leaf_nodes', y = 'mean_test_score',yerr='std_test_score',ax=plt.gca())"
      ],
      "execution_count": 218,
      "outputs": [
        {
          "output_type": "execute_result",
          "data": {
            "text/plain": [
              "<matplotlib.axes._subplots.AxesSubplot at 0x7f27f58b96a0>"
            ]
          },
          "metadata": {
            "tags": []
          },
          "execution_count": 218
        },
        {
          "output_type": "display_data",
          "data": {
            "image/png": "[encoded data removed]",
            "text/plain": [
              "<Figure size 432x288 with 1 Axes>"
            ]
          },
          "metadata": {
            "tags": [],
            "needs_background": "light"
          }
        }
      ]
    },
    {
      "cell_type": "code",
      "metadata": {
        "id": "R14Pq4HMgWrq",
        "colab_type": "code",
        "colab": {
          "base_uri": "https://localhost:8080/",
          "height": 870
        },
        "outputId": "1731979c-2b9c-451b-d7e6-b74e58a2cc2e"
      },
      "source": [
        "plot_tree(grid.best_estimator_,filled=True)"
      ],
      "execution_count": 219,
      "outputs": [
        {
          "output_type": "execute_result",
          "data": {
            "text/plain": [
              "[Text(224.19642857142858, 201.90857142857143, 'X[14] <= 0.25\\ngini = 0.39\\nsamples = 5282\\nvalue = [3880, 1402]'),\n",
              " Text(149.46428571428572, 170.84571428571428, 'X[16] <= 0.504\\ngini = 0.489\\nsamples = 2930\\nvalue = [1682, 1248]'),\n",
              " Text(77.72142857142858, 139.78285714285715, 'X[4] <= 0.049\\ngini = 0.409\\nsamples = 1265\\nvalue = [902, 363]'),\n",
              " Text(47.82857142857143, 108.72, 'X[12] <= 0.25\\ngini = 0.492\\nsamples = 453\\nvalue = [255, 198]'),\n",
              " Text(23.914285714285715, 77.65714285714284, 'X[17] <= 0.0\\ngini = 0.414\\nsamples = 191\\nvalue = [135, 56]'),\n",
              " Text(11.957142857142857, 46.59428571428572, 'gini = 0.475\\nsamples = 124\\nvalue = [76, 48]'),\n",
              " Text(35.871428571428574, 46.59428571428572, 'gini = 0.21\\nsamples = 67\\nvalue = [59, 8]'),\n",
              " Text(71.74285714285715, 77.65714285714284, 'X[1] <= 0.5\\ngini = 0.496\\nsamples = 262\\nvalue = [120, 142]'),\n",
              " Text(59.785714285714285, 46.59428571428572, 'gini = 0.5\\nsamples = 231\\nvalue = [114, 117]'),\n",
              " Text(83.7, 46.59428571428572, 'gini = 0.312\\nsamples = 31\\nvalue = [6, 25]'),\n",
              " Text(107.61428571428571, 108.72, 'X[7] <= 0.75\\ngini = 0.324\\nsamples = 812\\nvalue = [647, 165]'),\n",
              " Text(95.65714285714286, 77.65714285714284, 'gini = 0.171\\nsamples = 223\\nvalue = [202, 21]'),\n",
              " Text(119.57142857142857, 77.65714285714284, 'X[17] <= 0.034\\ngini = 0.369\\nsamples = 589\\nvalue = [445, 144]'),\n",
              " Text(107.61428571428571, 46.59428571428572, 'gini = 0.482\\nsamples = 99\\nvalue = [59, 40]'),\n",
              " Text(131.52857142857144, 46.59428571428572, 'gini = 0.334\\nsamples = 490\\nvalue = [386, 104]'),\n",
              " Text(221.20714285714286, 139.78285714285715, 'X[4] <= 0.215\\ngini = 0.498\\nsamples = 1665\\nvalue = [780, 885]'),\n",
              " Text(167.4, 108.72, 'X[17] <= 0.011\\ngini = 0.437\\nsamples = 800\\nvalue = [258, 542]'),\n",
              " Text(155.44285714285715, 77.65714285714284, 'gini = 0.232\\nsamples = 187\\nvalue = [25, 162]'),\n",
              " Text(179.35714285714286, 77.65714285714284, 'X[6] <= 0.75\\ngini = 0.471\\nsamples = 613\\nvalue = [233, 380]'),\n",
              " Text(155.44285714285715, 46.59428571428572, 'X[16] <= 0.604\\ngini = 0.498\\nsamples = 341\\nvalue = [160, 181]'),\n",
              " Text(143.4857142857143, 15.531428571428563, 'gini = 0.487\\nsamples = 153\\nvalue = [89, 64]'),\n",
              " Text(167.4, 15.531428571428563, 'gini = 0.47\\nsamples = 188\\nvalue = [71, 117]'),\n",
              " Text(203.27142857142857, 46.59428571428572, 'X[8] <= 0.75\\ngini = 0.393\\nsamples = 272\\nvalue = [73, 199]'),\n",
              " Text(191.31428571428572, 15.531428571428563, 'gini = 0.347\\nsamples = 242\\nvalue = [54, 188]'),\n",
              " Text(215.22857142857143, 15.531428571428563, 'gini = 0.464\\nsamples = 30\\nvalue = [19, 11]'),\n",
              " Text(275.01428571428573, 108.72, 'X[7] <= 0.75\\ngini = 0.479\\nsamples = 865\\nvalue = [522, 343]'),\n",
              " Text(263.0571428571429, 77.65714285714284, 'X[4] <= 0.715\\ngini = 0.486\\nsamples = 822\\nvalue = [480, 342]'),\n",
              " Text(251.1, 46.59428571428572, 'X[15] <= 0.5\\ngini = 0.497\\nsamples = 661\\nvalue = [356, 305]'),\n",
              " Text(239.14285714285714, 15.531428571428563, 'gini = 0.427\\nsamples = 126\\nvalue = [87, 39]'),\n",
              " Text(263.0571428571429, 15.531428571428563, 'gini = 0.5\\nsamples = 535\\nvalue = [269, 266]'),\n",
              " Text(275.01428571428573, 46.59428571428572, 'gini = 0.354\\nsamples = 161\\nvalue = [124, 37]'),\n",
              " Text(286.9714285714286, 77.65714285714284, 'gini = 0.045\\nsamples = 43\\nvalue = [42, 1]'),\n",
              " Text(298.92857142857144, 170.84571428571428, 'X[16] <= 0.75\\ngini = 0.122\\nsamples = 2352\\nvalue = [2198, 154]'),\n",
              " Text(286.9714285714286, 139.78285714285715, 'gini = 0.078\\nsamples = 1799\\nvalue = [1726, 73]'),\n",
              " Text(310.8857142857143, 139.78285714285715, 'X[14] <= 0.75\\ngini = 0.25\\nsamples = 553\\nvalue = [472, 81]'),\n",
              " Text(298.92857142857144, 108.72, 'gini = 0.337\\nsamples = 280\\nvalue = [220, 60]'),\n",
              " Text(322.84285714285716, 108.72, 'gini = 0.142\\nsamples = 273\\nvalue = [252, 21]')]"
            ]
          },
          "metadata": {
            "tags": []
          },
          "execution_count": 219
        },
        {
          "output_type": "display_data",
          "data": {
            "image/png": "[encoded data removed]",
            "text/plain": [
              "<Figure size 432x288 with 1 Axes>"
            ]
          },
          "metadata": {
            "tags": [],
            "needs_background": "light"
          }
        }
      ]
    },
    {
      "cell_type": "code",
      "metadata": {
        "id": "gwtOjR4cgWgi",
        "colab_type": "code",
        "colab": {
          "base_uri": "https://localhost:8080/",
          "height": 282
        },
        "outputId": "d02251f2-8f18-4a5c-cda5-05ae34f62e04"
      },
      "source": [
        "pd.Series(grid.best_estimator_.feature_importances_,index=feature_names).plot(kind='barh')"
      ],
      "execution_count": 220,
      "outputs": [
        {
          "output_type": "execute_result",
          "data": {
            "text/plain": [
              "<matplotlib.axes._subplots.AxesSubplot at 0x7f27f59e8630>"
            ]
          },
          "metadata": {
            "tags": []
          },
          "execution_count": 220
        },
        {
          "output_type": "display_data",
          "data": {
            "image/png": "[encoded data removed]",
            "text/plain": [
              "<Figure size 432x288 with 1 Axes>"
            ]
          },
          "metadata": {
            "tags": [],
            "needs_background": "light"
          }
        }
      ]
    },
    {
      "cell_type": "code",
      "metadata": {
        "id": "NRuTxk5KgWYK",
        "colab_type": "code",
        "colab": {
          "base_uri": "https://localhost:8080/",
          "height": 824
        },
        "outputId": "7f4bee15-360d-40bd-c097-18dc14dd4f53"
      },
      "source": [
        "tree = DecisionTreeClassifier(max_depth=4,max_leaf_nodes=19)\n",
        "tree.fit(x_train, y_train)\n",
        "plt.figure(figsize=(15,5))\n",
        "plot_tree(tree,feature_names=feature_names, filled=True)\n"
      ],
      "execution_count": 221,
      "outputs": [
        {
          "output_type": "execute_result",
          "data": {
            "text/plain": [
              "[Text(418.5, 244.62, 'Contract <= 0.25\\ngini = 0.39\\nsamples = 5282\\nvalue = [3880, 1402]'),\n",
              " Text(209.25, 190.26000000000002, 'MonthlyCharges <= 0.504\\ngini = 0.489\\nsamples = 2930\\nvalue = [1682, 1248]'),\n",
              " Text(104.625, 135.9, 'tenure <= 0.049\\ngini = 0.409\\nsamples = 1265\\nvalue = [902, 363]'),\n",
              " Text(52.3125, 81.54000000000002, 'StreamingTV <= 0.25\\ngini = 0.492\\nsamples = 453\\nvalue = [255, 198]'),\n",
              " Text(26.15625, 27.180000000000007, 'gini = 0.414\\nsamples = 191\\nvalue = [135, 56]'),\n",
              " Text(78.46875, 27.180000000000007, 'gini = 0.496\\nsamples = 262\\nvalue = [120, 142]'),\n",
              " Text(156.9375, 81.54000000000002, 'InternetService <= 0.75\\ngini = 0.324\\nsamples = 812\\nvalue = [647, 165]'),\n",
              " Text(130.78125, 27.180000000000007, 'gini = 0.171\\nsamples = 223\\nvalue = [202, 21]'),\n",
              " Text(183.09375, 27.180000000000007, 'gini = 0.369\\nsamples = 589\\nvalue = [445, 144]'),\n",
              " Text(313.875, 135.9, 'tenure <= 0.215\\ngini = 0.498\\nsamples = 1665\\nvalue = [780, 885]'),\n",
              " Text(261.5625, 81.54000000000002, 'TotalCharges <= 0.011\\ngini = 0.437\\nsamples = 800\\nvalue = [258, 542]'),\n",
              " Text(235.40625, 27.180000000000007, 'gini = 0.232\\nsamples = 187\\nvalue = [25, 162]'),\n",
              " Text(287.71875, 27.180000000000007, 'gini = 0.471\\nsamples = 613\\nvalue = [233, 380]'),\n",
              " Text(366.1875, 81.54000000000002, 'InternetService <= 0.75\\ngini = 0.479\\nsamples = 865\\nvalue = [522, 343]'),\n",
              " Text(340.03125, 27.180000000000007, 'gini = 0.486\\nsamples = 822\\nvalue = [480, 342]'),\n",
              " Text(392.34375, 27.180000000000007, 'gini = 0.045\\nsamples = 43\\nvalue = [42, 1]'),\n",
              " Text(627.75, 190.26000000000002, 'MonthlyCharges <= 0.75\\ngini = 0.122\\nsamples = 2352\\nvalue = [2198, 154]'),\n",
              " Text(523.125, 135.9, 'Contract <= 0.75\\ngini = 0.078\\nsamples = 1799\\nvalue = [1726, 73]'),\n",
              " Text(470.8125, 81.54000000000002, 'StreamingMovies <= 0.75\\ngini = 0.13\\nsamples = 817\\nvalue = [760, 57]'),\n",
              " Text(444.65625, 27.180000000000007, 'gini = 0.085\\nsamples = 586\\nvalue = [560, 26]'),\n",
              " Text(496.96875, 27.180000000000007, 'gini = 0.232\\nsamples = 231\\nvalue = [200, 31]'),\n",
              " Text(575.4375, 81.54000000000002, 'SeniorCitizen <= 0.5\\ngini = 0.032\\nsamples = 982\\nvalue = [966, 16]'),\n",
              " Text(549.28125, 27.180000000000007, 'gini = 0.026\\nsamples = 915\\nvalue = [903, 12]'),\n",
              " Text(601.59375, 27.180000000000007, 'gini = 0.112\\nsamples = 67\\nvalue = [63, 4]'),\n",
              " Text(732.375, 135.9, 'Contract <= 0.75\\ngini = 0.25\\nsamples = 553\\nvalue = [472, 81]'),\n",
              " Text(680.0625, 81.54000000000002, 'MonthlyCharges <= 0.833\\ngini = 0.337\\nsamples = 280\\nvalue = [220, 60]'),\n",
              " Text(653.90625, 27.180000000000007, 'gini = 0.26\\nsamples = 137\\nvalue = [116, 21]'),\n",
              " Text(706.21875, 27.180000000000007, 'gini = 0.397\\nsamples = 143\\nvalue = [104, 39]'),\n",
              " Text(784.6875, 81.54000000000002, 'MonthlyCharges <= 0.754\\ngini = 0.142\\nsamples = 273\\nvalue = [252, 21]'),\n",
              " Text(758.53125, 27.180000000000007, 'gini = 0.444\\nsamples = 3\\nvalue = [1, 2]'),\n",
              " Text(810.84375, 27.180000000000007, 'gini = 0.131\\nsamples = 270\\nvalue = [251, 19]')]"
            ]
          },
          "metadata": {
            "tags": []
          },
          "execution_count": 221
        },
        {
          "output_type": "display_data",
          "data": {
            "image/png": "[encoded data removed]",
            "text/plain": [
              "<Figure size 1080x360 with 1 Axes>"
            ]
          },
          "metadata": {
            "tags": [],
            "needs_background": "light"
          }
        }
      ]
    },
    {
      "cell_type": "code",
      "metadata": {
        "id": "exgow1u2gWQV",
        "colab_type": "code",
        "colab": {}
      },
      "source": [
        "y_pred = tree.predict(x_test)"
      ],
      "execution_count": 222,
      "outputs": []
    },
    {
      "cell_type": "code",
      "metadata": {
        "id": "c0xPsEJggVpU",
        "colab_type": "code",
        "colab": {
          "base_uri": "https://localhost:8080/",
          "height": 50
        },
        "outputId": "ddde9691-1e86-4e10-d28f-ad3ce19d3a60"
      },
      "source": [
        "from sklearn.metrics import confusion_matrix\n",
        "from sklearn.metrics import classification_report\n",
        "confusion_matrix(y_test,y_pred)"
      ],
      "execution_count": 223,
      "outputs": [
        {
          "output_type": "execute_result",
          "data": {
            "text/plain": [
              "array([[1160,  134],\n",
              "       [ 232,  235]])"
            ]
          },
          "metadata": {
            "tags": []
          },
          "execution_count": 223
        }
      ]
    },
    {
      "cell_type": "code",
      "metadata": {
        "id": "Q1iaIyjIgVTQ",
        "colab_type": "code",
        "colab": {
          "base_uri": "https://localhost:8080/",
          "height": 168
        },
        "outputId": "b0e5e105-123b-4419-cda4-21e63da38fd0"
      },
      "source": [
        "print(classification_report(y_test,y_pred))"
      ],
      "execution_count": 224,
      "outputs": [
        {
          "output_type": "stream",
          "text": [
            "              precision    recall  f1-score   support\n",
            "\n",
            "           0       0.83      0.90      0.86      1294\n",
            "           1       0.64      0.50      0.56       467\n",
            "\n",
            "    accuracy                           0.79      1761\n",
            "   macro avg       0.74      0.70      0.71      1761\n",
            "weighted avg       0.78      0.79      0.78      1761\n",
            "\n"
          ],
          "name": "stdout"
        }
      ]
    },
    {
      "cell_type": "code",
      "metadata": {
        "id": "nUEIWvgPgVK3",
        "colab_type": "code",
        "colab": {
          "base_uri": "https://localhost:8080/",
          "height": 34
        },
        "outputId": "90ba82ca-0e88-4330-ba2a-121731ac1a2d"
      },
      "source": [
        "tree.score(x_test,y_test)"
      ],
      "execution_count": 225,
      "outputs": [
        {
          "output_type": "execute_result",
          "data": {
            "text/plain": [
              "0.7921635434412265"
            ]
          },
          "metadata": {
            "tags": []
          },
          "execution_count": 225
        }
      ]
    },
    {
      "cell_type": "code",
      "metadata": {
        "id": "IwEnAP1ZgU9E",
        "colab_type": "code",
        "colab": {}
      },
      "source": [
        ""
      ],
      "execution_count": null,
      "outputs": []
    },
    {
      "cell_type": "code",
      "metadata": {
        "id": "spphy5MggUcd",
        "colab_type": "code",
        "colab": {}
      },
      "source": [
        ""
      ],
      "execution_count": null,
      "outputs": []
    },
    {
      "cell_type": "code",
      "metadata": {
        "id": "rXbbnDdYgUTZ",
        "colab_type": "code",
        "colab": {}
      },
      "source": [
        ""
      ],
      "execution_count": null,
      "outputs": []
    },
    {
      "cell_type": "code",
      "metadata": {
        "id": "7JOjBuEOYt_d",
        "colab_type": "code",
        "colab": {}
      },
      "source": [
        ""
      ],
      "execution_count": null,
      "outputs": []
    }
  ]
}